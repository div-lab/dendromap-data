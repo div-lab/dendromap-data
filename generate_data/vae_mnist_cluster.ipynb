{
 "cells": [
  {
   "cell_type": "code",
   "execution_count": 1,
   "metadata": {},
   "outputs": [],
   "source": [
    "import numpy as np\n",
    "from util import hierarchical_cluster, construct_dendrogram, add_clusters_to_nodes\n",
    "from helper import import_predictions, extract_features\n",
    "import json"
   ]
  },
  {
   "cell_type": "code",
   "execution_count": 3,
   "metadata": {},
   "outputs": [],
   "source": [
    "# IMPORT INSTANCE DATA\n",
    "relative_folder = \"./mnist_model\"\n",
    "predictions_filename = \"vae_mnist_train.json\"\n",
    "mnist_data = import_predictions(f\"{relative_folder}/{predictions_filename}\")"
   ]
  },
  {
   "cell_type": "code",
   "execution_count": 4,
   "metadata": {},
   "outputs": [
    {
     "name": "stdout",
     "output_type": "stream",
     "text": [
      "dict_keys(['dataset', 'train_instances', 'model_name'])\n",
      "conv_vae, mnist\n",
      "60000 instances\n"
     ]
    }
   ],
   "source": [
    "# Extract information\n",
    "dataset = mnist_data[\"dataset\"]\n",
    "model = mnist_data[\"model_name\"]\n",
    "instances = mnist_data[\"train_instances\"]\n",
    "\n",
    "print(mnist_data.keys())\n",
    "print(model, dataset, sep=\", \")\n",
    "print(f\"{len(instances)} instances\")"
   ]
  },
  {
   "cell_type": "code",
   "execution_count": 6,
   "metadata": {},
   "outputs": [
    {
     "name": "stdout",
     "output_type": "stream",
     "text": [
      "dict_keys(['index', 'filename', 'features']) (60000, 20)\n"
     ]
    }
   ],
   "source": [
    "features = extract_features(instances)\n",
    "print(instances[0].keys(), features.shape)"
   ]
  },
  {
   "cell_type": "code",
   "execution_count": 7,
   "metadata": {},
   "outputs": [],
   "source": [
    "clusters = hierarchical_cluster(features, method=\"ward\")"
   ]
  },
  {
   "cell_type": "code",
   "execution_count": 8,
   "metadata": {},
   "outputs": [],
   "source": [
    "dendrogram = construct_dendrogram(clusters, connect_parent=True)\n",
    "add_clusters_to_nodes(dendrogram)\n",
    "# now I want to add counts\n",
    "def add_node_count(node):\n",
    "\tnode[\"node_count\"] = len(node[\"cluster\"])\n",
    "dendrogram.for_each_node(add_node_count)"
   ]
  },
  {
   "cell_type": "code",
   "execution_count": 9,
   "metadata": {},
   "outputs": [
    {
     "data": {
      "text/plain": [
       "60000"
      ]
     },
     "execution_count": 9,
     "metadata": {},
     "output_type": "execute_result"
    }
   ],
   "source": [
    "dendrogram.root[\"node_count\"]"
   ]
  },
  {
   "cell_type": "code",
   "execution_count": 10,
   "metadata": {},
   "outputs": [],
   "source": [
    "# now I want to add extra information on the leaves (correspond to an image)\n",
    "def add_info_to_leaves(dendrogram, instances, callback):\n",
    "    for leaf in dendrogram.leaves:\n",
    "        id = leaf[\"instance_index\"]\n",
    "        instance = instances[id]\n",
    "\n",
    "        callback(leaf, instance) \n",
    "\n",
    "def add_filename(leaf, instance):\n",
    "    file_key = \"filename\"\n",
    "\n",
    "    filename = instance[file_key]\n",
    "    leaf[file_key] = filename\n",
    "\n",
    "add_info_to_leaves(dendrogram, instances, add_filename)"
   ]
  },
  {
   "cell_type": "code",
   "execution_count": 15,
   "metadata": {},
   "outputs": [],
   "source": [
    "dendrogram.remove_attr(\"parent\", \"cluster\")"
   ]
  },
  {
   "cell_type": "code",
   "execution_count": 12,
   "metadata": {},
   "outputs": [
    {
     "data": {
      "text/plain": [
       "dict_keys(['leaf', 'parent', 'merging_distance', 'node_index', 'instance_index', 'cluster', 'node_count', 'filename'])"
      ]
     },
     "execution_count": 12,
     "metadata": {},
     "output_type": "execute_result"
    }
   ],
   "source": [
    "dendrogram.root.keys()\n",
    "dendrogram.leaves[0].keys()"
   ]
  },
  {
   "cell_type": "code",
   "execution_count": 16,
   "metadata": {},
   "outputs": [],
   "source": [
    "with open(\"../mnist/clusters/vae_mnist_clusters.json\", \"w\") as out:\n",
    "    json.dump({\"tree\": dendrogram.dict_format}, out)"
   ]
  },
  {
   "cell_type": "code",
   "execution_count": null,
   "metadata": {},
   "outputs": [],
   "source": []
  }
 ],
 "metadata": {
  "interpreter": {
   "hash": "aee8b7b246df8f9039afb4144a1f6fd8d2ca17a180786b69acc140d282b71a49"
  },
  "kernelspec": {
   "display_name": "Python 3.9.9 64-bit",
   "language": "python",
   "name": "python3"
  },
  "language_info": {
   "codemirror_mode": {
    "name": "ipython",
    "version": 3
   },
   "file_extension": ".py",
   "mimetype": "text/x-python",
   "name": "python",
   "nbconvert_exporter": "python",
   "pygments_lexer": "ipython3",
   "version": "3.9.9"
  },
  "orig_nbformat": 4
 },
 "nbformat": 4,
 "nbformat_minor": 2
}
