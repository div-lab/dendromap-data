{
 "cells": [
  {
   "cell_type": "code",
   "execution_count": 1,
   "metadata": {},
   "outputs": [],
   "source": [
    "import numpy as np\n",
    "from util import hierarchical_cluster, construct_dendrogram, add_clusters_to_nodes\n",
    "import json"
   ]
  },
  {
   "cell_type": "code",
   "execution_count": 2,
   "metadata": {},
   "outputs": [],
   "source": [
    "relative_folder = \"./cifar10_model\"\n",
    "predictions_filename = \"prediction_results-cifar10-resnet50-test.json\"\n",
    "def import_predictions(filepath):\n",
    "    data = None\n",
    "    with open(filepath, \"r\") as input_file:\n",
    "        data = json.load(input_file)\n",
    "    return data\n",
    "\n",
    "resnet50_cifar10_data = import_predictions(f\"{relative_folder}/{predictions_filename}\")"
   ]
  },
  {
   "cell_type": "code",
   "execution_count": 3,
   "metadata": {},
   "outputs": [
    {
     "name": "stdout",
     "output_type": "stream",
     "text": [
      "dict_keys(['dataset', 'model_name', 'model_info', 'classes', 'test_instances', 'train_instances'])\n",
      "resnet50, cifar10, ['airplane', 'automobile', 'bird', 'cat', 'deer', 'dog', 'frog', 'horse', 'ship', 'truck']\n",
      "10000 instances\n"
     ]
    }
   ],
   "source": [
    "print(resnet50_cifar10_data.keys())\n",
    "\n",
    "dataset = resnet50_cifar10_data[\"dataset\"]\n",
    "classes = resnet50_cifar10_data[\"classes\"]\n",
    "model = resnet50_cifar10_data[\"model_name\"]\n",
    "instances = resnet50_cifar10_data[\"test_instances\"]\n",
    "\n",
    "print(model, dataset, classes, sep=\", \")\n",
    "print(f\"{len(instances)} instances\")"
   ]
  },
  {
   "cell_type": "code",
   "execution_count": 4,
   "metadata": {},
   "outputs": [
    {
     "name": "stdout",
     "output_type": "stream",
     "text": [
      "dict_keys(['index', 'filename', 'true_class', 'predicted_class', 'prediction_scores', 'features', 'features_2'])\n",
      "(10000, 512)\n"
     ]
    }
   ],
   "source": [
    "def extract_features(instances):\n",
    "\tcombined = np.array([instance[\"features\"] for instance in instances])\n",
    "\treturn combined\n",
    "        \n",
    "features = extract_features(instances)\n",
    "print(instances[0].keys())\n",
    "print(features.shape)"
   ]
  },
  {
   "cell_type": "code",
   "execution_count": 5,
   "metadata": {},
   "outputs": [],
   "source": [
    "clusters = hierarchical_cluster(features, method=\"ward\")"
   ]
  },
  {
   "cell_type": "code",
   "execution_count": 6,
   "metadata": {},
   "outputs": [],
   "source": [
    "dendrogram = construct_dendrogram(clusters, connect_parent=True)"
   ]
  },
  {
   "cell_type": "code",
   "execution_count": 7,
   "metadata": {},
   "outputs": [],
   "source": [
    "assert len(dendrogram.leaves) == len(instances), \"leaves should match the amount of instances\""
   ]
  },
  {
   "cell_type": "code",
   "execution_count": 8,
   "metadata": {},
   "outputs": [],
   "source": [
    "# add the list of instance index to each node representing each cluster\n",
    "add_clusters_to_nodes(dendrogram)"
   ]
  },
  {
   "cell_type": "code",
   "execution_count": 9,
   "metadata": {},
   "outputs": [
    {
     "data": {
      "text/plain": [
       "10000"
      ]
     },
     "execution_count": 9,
     "metadata": {},
     "output_type": "execute_result"
    }
   ],
   "source": [
    "len(dendrogram.root[\"cluster\"])"
   ]
  },
  {
   "cell_type": "code",
   "execution_count": 10,
   "metadata": {},
   "outputs": [],
   "source": [
    "# now I want to add counts\n",
    "def add_node_count(node):\n",
    "\tnode[\"node_count\"] = len(node[\"cluster\"])\n",
    "    \n",
    "dendrogram.for_each_node(add_node_count)"
   ]
  },
  {
   "cell_type": "code",
   "execution_count": 11,
   "metadata": {},
   "outputs": [
    {
     "data": {
      "text/plain": [
       "10000"
      ]
     },
     "execution_count": 11,
     "metadata": {},
     "output_type": "execute_result"
    }
   ],
   "source": [
    "dendrogram.root[\"node_count\"]"
   ]
  },
  {
   "cell_type": "code",
   "execution_count": 12,
   "metadata": {},
   "outputs": [],
   "source": [
    "# now I want to add extra information on the leaves (correspond to an image)\n",
    "def add_info_to_leaves(dendrogram, instances, callback):\n",
    "    for leaf in dendrogram.leaves:\n",
    "        id = leaf[\"instance_index\"]\n",
    "        instance = instances[id]\n",
    "\n",
    "        callback(leaf, instance) \n",
    "\n",
    "def add_filename_pred_and_true(leaf, instance):\n",
    "    pred_key = \"predicted_class\"\n",
    "    true_key = \"true_class\"\n",
    "    file_key = \"filename\"\n",
    "\n",
    "    filename = instance[file_key]\n",
    "    pred = instance[pred_key]\n",
    "    true = instance[true_key]\n",
    "\n",
    "    leaf[file_key] = filename\n",
    "    leaf[pred_key] = pred\n",
    "    leaf[true_key] = true\n",
    "\n",
    "add_info_to_leaves(dendrogram, instances, add_filename_pred_and_true)"
   ]
  },
  {
   "cell_type": "code",
   "execution_count": 13,
   "metadata": {},
   "outputs": [],
   "source": [
    "# add accuracy and correct count to the nodes\n",
    "def add_acc(node):\n",
    "    correct_count = 0\n",
    "    for id in node[\"cluster\"]:\n",
    "        instance = instances[id]\n",
    "        correct_count += int(instance[\"predicted_class\"] == instance[\"true_class\"])\n",
    "\n",
    "    node[\"correct_count\"] = correct_count\n",
    "    node[\"accuracy\"] = correct_count / len(node[\"cluster\"])\n",
    "\n",
    "dendrogram.for_each_node(add_acc)"
   ]
  },
  {
   "cell_type": "code",
   "execution_count": 14,
   "metadata": {},
   "outputs": [
    {
     "data": {
      "text/plain": [
       "9277"
      ]
     },
     "execution_count": 14,
     "metadata": {},
     "output_type": "execute_result"
    }
   ],
   "source": [
    "dendrogram.root[\"correct_count\"]"
   ]
  },
  {
   "cell_type": "code",
   "execution_count": 15,
   "metadata": {},
   "outputs": [],
   "source": [
    "from scipy.spatial.distance import squareform, pdist"
   ]
  },
  {
   "cell_type": "code",
   "execution_count": 16,
   "metadata": {},
   "outputs": [],
   "source": [
    "def pairwise_distance(features):\n",
    "    dists = pdist(features)\n",
    "    dists = squareform(dists)\n",
    "    return dists"
   ]
  },
  {
   "cell_type": "code",
   "execution_count": 17,
   "metadata": {},
   "outputs": [],
   "source": [
    "dists = pairwise_distance(features)"
   ]
  },
  {
   "cell_type": "code",
   "execution_count": 140,
   "metadata": {},
   "outputs": [
    {
     "data": {
      "text/plain": [
       "0.0"
      ]
     },
     "execution_count": 140,
     "metadata": {},
     "output_type": "execute_result"
    }
   ],
   "source": [
    "dists[0][0]"
   ]
  },
  {
   "cell_type": "code",
   "execution_count": 28,
   "metadata": {},
   "outputs": [],
   "source": [
    "def compute_top_similar(dists, k=100):\n",
    "\tsimilar = np.argsort(dists, axis=1)[:, 1:k+1]\n",
    "\treturn similar"
   ]
  },
  {
   "cell_type": "code",
   "execution_count": 29,
   "metadata": {},
   "outputs": [
    {
     "name": "stdout",
     "output_type": "stream",
     "text": [
      "(10000, 100)\n"
     ]
    }
   ],
   "source": [
    "similar = compute_top_similar(dists)\n",
    "print(similar.shape)"
   ]
  },
  {
   "cell_type": "code",
   "execution_count": 30,
   "metadata": {},
   "outputs": [
    {
     "name": "stdout",
     "output_type": "stream",
     "text": [
      "[8271 4826 2720 2029  586 8204 4674 1033  950 5822 7207 9961 2787  115\n",
      " 4422 5943 8072 1662 5381 4900 8467  367 9087 6225 3539 4637 1088 3819\n",
      " 8019 1612 1524 9647 8818  464 2243  106 8077 7910 7255 6575 7865 8201\n",
      " 3810 5100 2991 5535 8680 3594 2823 8336 5204 7275 6710 7228 1877 6196\n",
      " 9380 7879 7221 1611 2684 9926 2498 8224 8299 7574  573 2173 2054 6938\n",
      " 7291 2144  256 3067    8 2107 6627 5161 1269 5575 2178 4933 2410 7211\n",
      " 5313 9460 8601 5033 1848 7569 9089 9142 7110 7598  336  103 7268 3231\n",
      " 7212 2529]\n"
     ]
    }
   ],
   "source": [
    "print(similar[0])"
   ]
  },
  {
   "cell_type": "code",
   "execution_count": 31,
   "metadata": {},
   "outputs": [],
   "source": [
    "def add_top_similar_attr(top_similar_matrix, id_transform = lambda i: i):\n",
    "    def _add_attr(leaf, instance):\n",
    "        index = id_transform(instance[\"index\"])\n",
    "        leaf[\"similar\"] = top_similar_matrix[index].tolist()\n",
    "    return _add_attr\n",
    "    \n",
    "    \n",
    "add_info_to_leaves(dendrogram, instances, add_top_similar_attr(similar))"
   ]
  },
  {
   "cell_type": "code",
   "execution_count": 33,
   "metadata": {},
   "outputs": [
    {
     "data": {
      "text/plain": [
       "100"
      ]
     },
     "execution_count": 33,
     "metadata": {},
     "output_type": "execute_result"
    }
   ],
   "source": [
    "len(dendrogram.leaves[0][\"similar\"])"
   ]
  },
  {
   "cell_type": "code",
   "execution_count": 34,
   "metadata": {},
   "outputs": [
    {
     "data": {
      "text/plain": [
       "dict_keys(['leaf', 'node_index', 'parent', 'children', 'cluster', 'node_count', 'correct_count', 'accuracy'])"
      ]
     },
     "execution_count": 34,
     "metadata": {},
     "output_type": "execute_result"
    }
   ],
   "source": [
    "dendrogram.root.keys()"
   ]
  },
  {
   "cell_type": "code",
   "execution_count": 37,
   "metadata": {},
   "outputs": [],
   "source": [
    "dendrogram.remove_attr(\"parent\", \"cluster\")\n",
    "with open(\"../cifar10/clusters/cifar10_resnet50.json\", \"w\") as outfile:\n",
    "    data_export = {\"tree\": dendrogram.dict_format, \"classes\": classes}\n",
    "    json.dump(data_export, outfile)"
   ]
  },
  {
   "cell_type": "code",
   "execution_count": null,
   "metadata": {},
   "outputs": [],
   "source": []
  }
 ],
 "metadata": {
  "interpreter": {
   "hash": "aee8b7b246df8f9039afb4144a1f6fd8d2ca17a180786b69acc140d282b71a49"
  },
  "kernelspec": {
   "display_name": "Python 3.9.9 64-bit",
   "language": "python",
   "name": "python3"
  },
  "language_info": {
   "codemirror_mode": {
    "name": "ipython",
    "version": 3
   },
   "file_extension": ".py",
   "mimetype": "text/x-python",
   "name": "python",
   "nbconvert_exporter": "python",
   "pygments_lexer": "ipython3",
   "version": "3.9.9"
  },
  "orig_nbformat": 4
 },
 "nbformat": 4,
 "nbformat_minor": 2
}
