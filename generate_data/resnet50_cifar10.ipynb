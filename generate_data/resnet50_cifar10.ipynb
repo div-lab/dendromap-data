{
 "cells": [
  {
   "cell_type": "code",
   "execution_count": 4,
   "metadata": {},
   "outputs": [],
   "source": [
    "from util import compute_dendrogram_skeleton\n",
    "import json"
   ]
  },
  {
   "cell_type": "code",
   "execution_count": 8,
   "metadata": {},
   "outputs": [],
   "source": [
    "# IMPORT INSTANCES\n",
    "'''\n",
    "    an instance is to be formatted like\n",
    "    {\n",
    "        \"filename\": string\n",
    "        \"index\": int\n",
    "        \"features\": int[]\n",
    "    }\n",
    "    \n",
    "    but can also have additional information like\n",
    "    {\n",
    "        \"filename\": string\n",
    "        \"index\": int\n",
    "        \"features\": int[],\n",
    "        \"true_class\": string\n",
    "        \"predicted_class\": string\n",
    "    }\n",
    "\n",
    "    instances are an array of the instance as formatted above\n",
    "'''\n",
    "relative_folder = \"./cifar10_model\"\n",
    "predictions_filename = \"prediction_results-cifar10-resnet50-test.json\"\n",
    "def import_predictions(filepath):\n",
    "    data = None\n",
    "    with open(filepath, \"r\") as input_file:\n",
    "        data = json.load(input_file)\n",
    "    return data\n",
    "\n",
    "resnet50_cifar10_data = import_predictions(f\"{relative_folder}/{predictions_filename}\")\n",
    "\n",
    "instances = resnet50_cifar10_data[\"test_instances\"]\n",
    "classes = resnet50_cifar10_data[\"classes\"]"
   ]
  },
  {
   "cell_type": "code",
   "execution_count": 9,
   "metadata": {},
   "outputs": [],
   "source": [
    "def add_instance_class_info(dendrogram, instances):\n",
    "    # add predictions information on the leaf nodes\n",
    "    pred_key = \"predicted_class\"\n",
    "    true_key = \"true_class\"\n",
    "    for leaf in dendrogram.leaves:\n",
    "        id = leaf[\"instance_index\"]\n",
    "        instance = instances[id]\n",
    "\n",
    "        leaf[pred_key] = instance[pred_key]\n",
    "        leaf[true_key] = instance[true_key]\n",
    "\n",
    "# add accuracy and correct count to each node since we have prediction info\n",
    "def add_acc(instances):\n",
    "    def _add_acc(node):\n",
    "        correct_count = 0\n",
    "        for id in node[\"cluster\"]:\n",
    "            instance = instances[id]\n",
    "            correct_count += int(instance[\"predicted_class\"] == instance[\"true_class\"])\n",
    "\n",
    "        node[\"correct_count\"] = correct_count\n",
    "        node[\"accuracy\"] = correct_count / len(node[\"cluster\"])\n",
    "    return _add_acc"
   ]
  },
  {
   "cell_type": "code",
   "execution_count": 10,
   "metadata": {},
   "outputs": [
    {
     "name": "stdout",
     "output_type": "stream",
     "text": [
      "Extracting Features\n",
      "Agglomerative Clustering\n",
      "Constructing Dendrogram\n",
      "Computing top 100 similar\n",
      "Adding information to the leaf nodes\n",
      "Done!\n"
     ]
    }
   ],
   "source": [
    "# compute dendrogram and export for all instances\n",
    "dendrogram = compute_dendrogram_skeleton(instances, top_similar=100) # necessary step to get the bare minimum dendrogram to work in dendromap\n",
    "dendrogram.for_each_node(add_acc(instances))\n",
    "add_instance_class_info(dendrogram, instances)\n",
    "\n",
    "with open(\"../cifar10/clusters/cifar10_resnet50.json\", \"w\") as outfile:\n",
    "    data_export = {\"tree\": dendrogram.to_json(), \"classes\": classes}\n",
    "    json.dump(data_export, outfile)"
   ]
  },
  {
   "cell_type": "code",
   "execution_count": 11,
   "metadata": {},
   "outputs": [
    {
     "name": "stdout",
     "output_type": "stream",
     "text": [
      "dict_keys(['airplane', 'automobile', 'bird', 'cat', 'deer', 'dog', 'frog', 'horse', 'ship', 'truck'])\n",
      "airplane 1000\n",
      "automobile 1000\n",
      "bird 1000\n",
      "cat 1000\n",
      "deer 1000\n",
      "dog 1000\n",
      "frog 1000\n",
      "horse 1000\n",
      "ship 1000\n",
      "truck 1000\n"
     ]
    }
   ],
   "source": [
    "# filter instances for each class\n",
    "def filter_instances_by_class(instances, classes):\n",
    "    filter_map = {class_name: [] for class_name in classes}\n",
    "    for instance in instances:\n",
    "        class_name = instance[\"true_class\"]\n",
    "        filter_map[class_name].append(instance)\n",
    "    return filter_map\n",
    "\n",
    "filtered = filter_instances_by_class(instances, classes)\n",
    "print(filtered.keys())\n",
    "for [k, v] in filtered.items():\n",
    "    print(k, len(v))\n",
    "    "
   ]
  },
  {
   "cell_type": "code",
   "execution_count": 16,
   "metadata": {},
   "outputs": [
    {
     "name": "stdout",
     "output_type": "stream",
     "text": [
      "\n",
      "COMPUTING ON airplane\n",
      "Extracting Features\n",
      "Agglomerative Clustering\n",
      "Constructing Dendrogram\n",
      "Computing top 25 similar\n",
      "Adding information to the leaf nodes\n",
      "Done!\n",
      "\n",
      "COMPUTING ON automobile\n",
      "Extracting Features\n",
      "Agglomerative Clustering\n",
      "Constructing Dendrogram\n",
      "Computing top 25 similar\n",
      "Adding information to the leaf nodes\n",
      "Done!\n",
      "\n",
      "COMPUTING ON bird\n",
      "Extracting Features\n",
      "Agglomerative Clustering\n",
      "Constructing Dendrogram\n",
      "Computing top 25 similar\n",
      "Adding information to the leaf nodes\n",
      "Done!\n",
      "\n",
      "COMPUTING ON cat\n",
      "Extracting Features\n",
      "Agglomerative Clustering\n",
      "Constructing Dendrogram\n",
      "Computing top 25 similar\n",
      "Adding information to the leaf nodes\n",
      "Done!\n",
      "\n",
      "COMPUTING ON deer\n",
      "Extracting Features\n",
      "Agglomerative Clustering\n",
      "Constructing Dendrogram\n",
      "Computing top 25 similar\n",
      "Adding information to the leaf nodes\n",
      "Done!\n",
      "\n",
      "COMPUTING ON dog\n",
      "Extracting Features\n",
      "Agglomerative Clustering\n",
      "Constructing Dendrogram\n",
      "Computing top 25 similar\n",
      "Adding information to the leaf nodes\n",
      "Done!\n",
      "\n",
      "COMPUTING ON frog\n",
      "Extracting Features\n",
      "Agglomerative Clustering\n",
      "Constructing Dendrogram\n",
      "Computing top 25 similar\n",
      "Adding information to the leaf nodes\n",
      "Done!\n",
      "\n",
      "COMPUTING ON horse\n",
      "Extracting Features\n",
      "Agglomerative Clustering\n",
      "Constructing Dendrogram\n",
      "Computing top 25 similar\n",
      "Adding information to the leaf nodes\n",
      "Done!\n",
      "\n",
      "COMPUTING ON ship\n",
      "Extracting Features\n",
      "Agglomerative Clustering\n",
      "Constructing Dendrogram\n",
      "Computing top 25 similar\n",
      "Adding information to the leaf nodes\n",
      "Done!\n",
      "\n",
      "COMPUTING ON truck\n",
      "Extracting Features\n",
      "Agglomerative Clustering\n",
      "Constructing Dendrogram\n",
      "Computing top 25 similar\n",
      "Adding information to the leaf nodes\n",
      "Done!\n"
     ]
    }
   ],
   "source": [
    "# compute and export dendrogram for each filtered class\n",
    "data_export = {}\n",
    "for [class_name, filtered_instances] in filtered.items():\n",
    "    print(f\"\\nCOMPUTING ON { class_name }\")\n",
    "    filtered_dendrogram = compute_dendrogram_skeleton(filtered_instances, top_similar=25)\n",
    "    add_instance_class_info(filtered_dendrogram, filtered_instances)\n",
    "    filtered_dendrogram.for_each_node(add_acc)\n",
    "    data_export[class_name] = filtered_dendrogram.to_json()\n",
    "\n",
    "with open(\"../cifar10/clusters/cifar10_resnet50_classes.json\", \"w\") as outfile:\n",
    "    data_export[\"classes\"] = classes\n",
    "    json.dump(data_export, outfile)"
   ]
  },
  {
   "cell_type": "code",
   "execution_count": null,
   "metadata": {},
   "outputs": [],
   "source": []
  }
 ],
 "metadata": {
  "interpreter": {
   "hash": "aee8b7b246df8f9039afb4144a1f6fd8d2ca17a180786b69acc140d282b71a49"
  },
  "kernelspec": {
   "display_name": "Python 3.9.9 64-bit",
   "language": "python",
   "name": "python3"
  },
  "language_info": {
   "codemirror_mode": {
    "name": "ipython",
    "version": 3
   },
   "file_extension": ".py",
   "mimetype": "text/x-python",
   "name": "python",
   "nbconvert_exporter": "python",
   "pygments_lexer": "ipython3",
   "version": "3.9.9"
  },
  "orig_nbformat": 4
 },
 "nbformat": 4,
 "nbformat_minor": 2
}
